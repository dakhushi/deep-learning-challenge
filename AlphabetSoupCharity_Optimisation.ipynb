{
  "nbformat": 4,
  "nbformat_minor": 0,
  "metadata": {
    "colab": {
      "provenance": []
    },
    "kernelspec": {
      "name": "python3",
      "display_name": "Python 3"
    },
    "language_info": {
      "name": "python"
    }
  },
  "cells": [
    {
      "cell_type": "markdown",
      "source": [
        "#Building and Comparing Machine Learning Models for Predicting Alphabet Soup-Funded Organization Success\n",
        "\n",
        "**Overview of the Analysis**\n",
        "\n",
        "The primary objective of this analysis is to develop a predictive model using machine learning techniques to determine whether an organization funded by Alphabet Soup will be successful. Leveraging the charity_data.csv dataset, we aimed to preprocess the data, identify the most significant features, and build various machine learning models capable of achieving a predictive accuracy exceeding 90%. By comparing different models and optimizing their hyperparameters, we seek to identify the most effective approach for this classification task."
      ],
      "metadata": {
        "id": "R7jPstUtP9DY"
      }
    },
    {
      "cell_type": "code",
      "source": [
        "# Data manipulation and visualization\n",
        "import pandas as pd\n",
        "import numpy as np\n",
        "import matplotlib.pyplot as plt\n",
        "import seaborn as sns\n",
        "\n",
        "# Machine Learning and preprocessing\n",
        "from sklearn.model_selection import train_test_split, GridSearchCV, cross_val_score\n",
        "from sklearn.preprocessing import StandardScaler\n",
        "from sklearn.impute import SimpleImputer\n",
        "from sklearn.ensemble import RandomForestClassifier\n",
        "from sklearn.linear_model import LogisticRegression\n",
        "from sklearn.metrics import accuracy_score, confusion_matrix, classification_report\n",
        "from sklearn.feature_selection import SelectFromModel\n",
        "\n",
        "# Handling class imbalance\n",
        "from imblearn.over_sampling import SMOTE\n",
        "\n",
        "# XGBoost\n",
        "import xgboost as xgb\n",
        "\n",
        "# Deep Learning\n",
        "import tensorflow as tf\n",
        "from tensorflow.keras.models import Sequential\n",
        "from tensorflow.keras.layers import Dense, Dropout, BatchNormalization, LeakyReLU\n",
        "from tensorflow.keras.callbacks import EarlyStopping, ReduceLROnPlateau\n",
        "\n",
        "# Suppress warnings for cleaner output\n",
        "import warnings\n",
        "warnings.filterwarnings('ignore')\n"
      ],
      "metadata": {
        "id": "QhJ9Yk7eP8ld"
      },
      "execution_count": 1,
      "outputs": []
    },
    {
      "cell_type": "code",
      "source": [
        "# Load the dataset\n",
        "data_url = \"https://static.bc-edx.com/data/dla-1-2/m21/lms/starter/charity_data.csv\"\n",
        "application_df = pd.read_csv(data_url)\n",
        "\n",
        "# Display the first five rows\n",
        "print(\"First five rows of the dataset:\")\n",
        "print(application_df.head())\n",
        "\n",
        "# Display dataset information\n",
        "print(\"\\nDataset Information:\")\n",
        "print(application_df.info())\n",
        "\n",
        "# Display summary statistics\n",
        "print(\"\\nSummary Statistics:\")\n",
        "print(application_df.describe())\n"
      ],
      "metadata": {
        "colab": {
          "base_uri": "https://localhost:8080/"
        },
        "id": "-3sRrFglP8oy",
        "outputId": "22838957-4ebc-48a1-a908-f7521c1440db"
      },
      "execution_count": 2,
      "outputs": [
        {
          "output_type": "stream",
          "name": "stdout",
          "text": [
            "First five rows of the dataset:\n",
            "        EIN                                      NAME APPLICATION_TYPE  \\\n",
            "0  10520599              BLUE KNIGHTS MOTORCYCLE CLUB              T10   \n",
            "1  10531628    AMERICAN CHESAPEAKE CLUB CHARITABLE TR               T3   \n",
            "2  10547893        ST CLOUD PROFESSIONAL FIREFIGHTERS               T5   \n",
            "3  10553066            SOUTHSIDE ATHLETIC ASSOCIATION               T3   \n",
            "4  10556103  GENETIC RESEARCH INSTITUTE OF THE DESERT               T3   \n",
            "\n",
            "        AFFILIATION CLASSIFICATION      USE_CASE  ORGANIZATION  STATUS  \\\n",
            "0       Independent          C1000    ProductDev   Association       1   \n",
            "1       Independent          C2000  Preservation  Co-operative       1   \n",
            "2  CompanySponsored          C3000    ProductDev   Association       1   \n",
            "3  CompanySponsored          C2000  Preservation         Trust       1   \n",
            "4       Independent          C1000     Heathcare         Trust       1   \n",
            "\n",
            "      INCOME_AMT SPECIAL_CONSIDERATIONS  ASK_AMT  IS_SUCCESSFUL  \n",
            "0              0                      N     5000              1  \n",
            "1         1-9999                      N   108590              1  \n",
            "2              0                      N     5000              0  \n",
            "3    10000-24999                      N     6692              1  \n",
            "4  100000-499999                      N   142590              1  \n",
            "\n",
            "Dataset Information:\n",
            "<class 'pandas.core.frame.DataFrame'>\n",
            "RangeIndex: 34299 entries, 0 to 34298\n",
            "Data columns (total 12 columns):\n",
            " #   Column                  Non-Null Count  Dtype \n",
            "---  ------                  --------------  ----- \n",
            " 0   EIN                     34299 non-null  int64 \n",
            " 1   NAME                    34299 non-null  object\n",
            " 2   APPLICATION_TYPE        34299 non-null  object\n",
            " 3   AFFILIATION             34299 non-null  object\n",
            " 4   CLASSIFICATION          34299 non-null  object\n",
            " 5   USE_CASE                34299 non-null  object\n",
            " 6   ORGANIZATION            34299 non-null  object\n",
            " 7   STATUS                  34299 non-null  int64 \n",
            " 8   INCOME_AMT              34299 non-null  object\n",
            " 9   SPECIAL_CONSIDERATIONS  34299 non-null  object\n",
            " 10  ASK_AMT                 34299 non-null  int64 \n",
            " 11  IS_SUCCESSFUL           34299 non-null  int64 \n",
            "dtypes: int64(4), object(8)\n",
            "memory usage: 3.1+ MB\n",
            "None\n",
            "\n",
            "Summary Statistics:\n",
            "                EIN        STATUS       ASK_AMT  IS_SUCCESSFUL\n",
            "count  3.429900e+04  34299.000000  3.429900e+04   34299.000000\n",
            "mean   5.191852e+08      0.999854  2.769199e+06       0.532406\n",
            "std    2.451472e+08      0.012073  8.713045e+07       0.498956\n",
            "min    1.052060e+07      0.000000  5.000000e+03       0.000000\n",
            "25%    2.748482e+08      1.000000  5.000000e+03       0.000000\n",
            "50%    4.656317e+08      1.000000  5.000000e+03       1.000000\n",
            "75%    7.526117e+08      1.000000  7.742000e+03       1.000000\n",
            "max    9.960869e+08      1.000000  8.597806e+09       1.000000\n"
          ]
        }
      ]
    },
    {
      "cell_type": "code",
      "source": [
        "# Drop 'EIN' and 'NAME' columns\n",
        "application_df = application_df.drop(['EIN', 'NAME'], axis=1)\n",
        "print(\"\\nColumns after dropping 'EIN' and 'NAME':\")\n",
        "print(application_df.columns)\n"
      ],
      "metadata": {
        "colab": {
          "base_uri": "https://localhost:8080/"
        },
        "id": "oXWHyb5RP8rQ",
        "outputId": "0e1ce234-1bae-4f34-b540-f9bcb453e767"
      },
      "execution_count": 3,
      "outputs": [
        {
          "output_type": "stream",
          "name": "stdout",
          "text": [
            "\n",
            "Columns after dropping 'EIN' and 'NAME':\n",
            "Index(['APPLICATION_TYPE', 'AFFILIATION', 'CLASSIFICATION', 'USE_CASE',\n",
            "       'ORGANIZATION', 'STATUS', 'INCOME_AMT', 'SPECIAL_CONSIDERATIONS',\n",
            "       'ASK_AMT', 'IS_SUCCESSFUL'],\n",
            "      dtype='object')\n"
          ]
        }
      ]
    },
    {
      "cell_type": "code",
      "source": [
        "# Identify categorical columns\n",
        "categorical_cols = application_df.select_dtypes(include=['object']).columns.tolist()\n",
        "print(\"\\nCategorical Columns:\", categorical_cols)\n",
        "\n",
        "# One-hot encode categorical variables\n",
        "application_df_encoded = pd.get_dummies(application_df, columns=categorical_cols, drop_first=True)\n",
        "print(\"\\nDataFrame shape after one-hot encoding:\", application_df_encoded.shape)\n",
        "\n"
      ],
      "metadata": {
        "colab": {
          "base_uri": "https://localhost:8080/"
        },
        "id": "OwKTgVb3P8tV",
        "outputId": "07064983-59a9-4fbe-cf12-9eae14269081"
      },
      "execution_count": 4,
      "outputs": [
        {
          "output_type": "stream",
          "name": "stdout",
          "text": [
            "\n",
            "Categorical Columns: ['APPLICATION_TYPE', 'AFFILIATION', 'CLASSIFICATION', 'USE_CASE', 'ORGANIZATION', 'INCOME_AMT', 'SPECIAL_CONSIDERATIONS']\n",
            "\n",
            "DataFrame shape after one-hot encoding: (34299, 110)\n"
          ]
        }
      ]
    },
    {
      "cell_type": "code",
      "source": [
        "# Check for missing values\n",
        "print(\"\\nMissing values in each column:\")\n",
        "print(application_df_encoded.isnull().sum())\n",
        "\n",
        "# Identify numerical and categorical columns after encoding\n",
        "numerical_cols = application_df_encoded.select_dtypes(include=['int64', 'float64']).columns.tolist()\n",
        "categorical_cols = application_df_encoded.select_dtypes(include=['object']).columns.tolist()\n",
        "\n",
        "if len(categorical_cols) > 0:\n",
        "    print(\"\\nCategorical columns after encoding:\", categorical_cols)\n",
        "else:\n",
        "    print(\"\\nNo categorical columns left after encoding.\")\n",
        "\n",
        "# Impute numerical columns if there are missing values\n",
        "if application_df_encoded[numerical_cols].isnull().sum().sum() > 0:\n",
        "    imputer_num = SimpleImputer(strategy='median')\n",
        "    application_df_encoded[numerical_cols] = imputer_num.fit_transform(application_df_encoded[numerical_cols])\n",
        "    print(\"\\nMissing values after imputation:\")\n",
        "    print(application_df_encoded.isnull().sum())\n",
        "else:\n",
        "    print(\"\\nNo missing values found in the dataset.\")"
      ],
      "metadata": {
        "colab": {
          "base_uri": "https://localhost:8080/"
        },
        "id": "mlkIHAVZQeXc",
        "outputId": "e7cfc3c4-d7fd-44b5-f89a-4a01449c2a68"
      },
      "execution_count": 5,
      "outputs": [
        {
          "output_type": "stream",
          "name": "stdout",
          "text": [
            "\n",
            "Missing values in each column:\n",
            "STATUS                      0\n",
            "ASK_AMT                     0\n",
            "IS_SUCCESSFUL               0\n",
            "APPLICATION_TYPE_T12        0\n",
            "APPLICATION_TYPE_T13        0\n",
            "                           ..\n",
            "INCOME_AMT_1M-5M            0\n",
            "INCOME_AMT_25000-99999      0\n",
            "INCOME_AMT_50M+             0\n",
            "INCOME_AMT_5M-10M           0\n",
            "SPECIAL_CONSIDERATIONS_Y    0\n",
            "Length: 110, dtype: int64\n",
            "\n",
            "No categorical columns left after encoding.\n",
            "\n",
            "No missing values found in the dataset.\n"
          ]
        }
      ]
    },
    {
      "cell_type": "code",
      "source": [
        "# Initialize the StandardScaler\n",
        "scaler = StandardScaler()\n",
        "\n",
        "# Identify feature columns (all columns except the target)\n",
        "feature_cols = application_df_encoded.drop('IS_SUCCESSFUL', axis=1).columns.tolist()\n",
        "\n",
        "# Scale the features\n",
        "application_df_encoded[feature_cols] = scaler.fit_transform(application_df_encoded[feature_cols])\n",
        "\n",
        "print(\"\\nFeatures after scaling:\")\n",
        "print(application_df_encoded[feature_cols].head())\n"
      ],
      "metadata": {
        "colab": {
          "base_uri": "https://localhost:8080/"
        },
        "id": "GUnNCOOZQeaO",
        "outputId": "f2fd1eaa-d8f8-42df-e133-e1e2a4aabf79"
      },
      "execution_count": 6,
      "outputs": [
        {
          "output_type": "stream",
          "name": "stdout",
          "text": [
            "\n",
            "Features after scaling:\n",
            "     STATUS   ASK_AMT  APPLICATION_TYPE_T12  APPLICATION_TYPE_T13  \\\n",
            "0  0.012075 -0.031725             -0.028068             -0.043909   \n",
            "1  0.012075 -0.030536             -0.028068             -0.043909   \n",
            "2  0.012075 -0.031725             -0.028068             -0.043909   \n",
            "3  0.012075 -0.031706             -0.028068             -0.043909   \n",
            "4  0.012075 -0.030146             -0.028068             -0.043909   \n",
            "\n",
            "   APPLICATION_TYPE_T14  APPLICATION_TYPE_T15  APPLICATION_TYPE_T17  \\\n",
            "0             -0.009353             -0.007636               -0.0054   \n",
            "1             -0.009353             -0.007636               -0.0054   \n",
            "2             -0.009353             -0.007636               -0.0054   \n",
            "3             -0.009353             -0.007636               -0.0054   \n",
            "4             -0.009353             -0.007636               -0.0054   \n",
            "\n",
            "   APPLICATION_TYPE_T19  APPLICATION_TYPE_T2  APPLICATION_TYPE_T25  ...  \\\n",
            "0             -0.179013            -0.021603             -0.009353  ...   \n",
            "1             -0.179013            -0.021603             -0.009353  ...   \n",
            "2             -0.179013            -0.021603             -0.009353  ...   \n",
            "3             -0.179013            -0.021603             -0.009353  ...   \n",
            "4             -0.179013            -0.021603             -0.009353  ...   \n",
            "\n",
            "   ORGANIZATION_Trust  INCOME_AMT_1-9999  INCOME_AMT_10000-24999  \\\n",
            "0           -1.476667           -0.14726               -0.126831   \n",
            "1           -1.476667            6.79073               -0.126831   \n",
            "2           -1.476667           -0.14726               -0.126831   \n",
            "3            0.677201           -0.14726                7.884526   \n",
            "4            0.677201           -0.14726               -0.126831   \n",
            "\n",
            "   INCOME_AMT_100000-499999  INCOME_AMT_10M-50M  INCOME_AMT_1M-5M  \\\n",
            "0                 -0.330307           -0.083944         -0.169236   \n",
            "1                 -0.330307           -0.083944         -0.169236   \n",
            "2                 -0.330307           -0.083944         -0.169236   \n",
            "3                 -0.330307           -0.083944         -0.169236   \n",
            "4                  3.027487           -0.083944         -0.169236   \n",
            "\n",
            "   INCOME_AMT_25000-99999  INCOME_AMT_50M+  INCOME_AMT_5M-10M  \\\n",
            "0               -0.350205        -0.063789          -0.073641   \n",
            "1               -0.350205        -0.063789          -0.073641   \n",
            "2               -0.350205        -0.063789          -0.073641   \n",
            "3               -0.350205        -0.063789          -0.073641   \n",
            "4               -0.350205        -0.063789          -0.073641   \n",
            "\n",
            "   SPECIAL_CONSIDERATIONS_Y  \n",
            "0                 -0.028068  \n",
            "1                 -0.028068  \n",
            "2                 -0.028068  \n",
            "3                 -0.028068  \n",
            "4                 -0.028068  \n",
            "\n",
            "[5 rows x 109 columns]\n"
          ]
        }
      ]
    },
    {
      "cell_type": "code",
      "source": [
        "# Check class distribution\n",
        "class_counts = application_df_encoded['IS_SUCCESSFUL'].value_counts()\n",
        "print(\"\\nClass Distribution:\")\n",
        "print(class_counts)\n",
        "\n",
        "# Calculate the imbalance ratio\n",
        "imbalance_ratio = class_counts.min() / class_counts.max()\n",
        "print(f\"\\nImbalance Ratio: {imbalance_ratio:.2f}\")\n",
        "\n",
        "# Apply SMOTE if imbalance ratio is less than 0.5\n",
        "if imbalance_ratio < 0.5:\n",
        "    print(\"\\nApplying SMOTE to balance the classes...\")\n",
        "    smote = SMOTE(random_state=42)\n",
        "    X = application_df_encoded.drop('IS_SUCCESSFUL', axis=1)\n",
        "    y = application_df_encoded['IS_SUCCESSFUL']\n",
        "    X_resampled, y_resampled = smote.fit_resample(X, y)\n",
        "    print(\"Class distribution after SMOTE:\")\n",
        "    print(pd.Series(y_resampled).value_counts())\n",
        "else:\n",
        "    print(\"\\nNo significant class imbalance detected. Proceeding without SMOTE.\")\n",
        "    X_resampled = application_df_encoded.drop('IS_SUCCESSFUL', axis=1)\n",
        "    y_resampled = application_df_encoded['IS_SUCCESSFUL']\n"
      ],
      "metadata": {
        "colab": {
          "base_uri": "https://localhost:8080/"
        },
        "id": "_vgEHcoHQeee",
        "outputId": "1855e72e-aa7a-4db8-cc41-8d41e2799017"
      },
      "execution_count": 7,
      "outputs": [
        {
          "output_type": "stream",
          "name": "stdout",
          "text": [
            "\n",
            "Class Distribution:\n",
            "IS_SUCCESSFUL\n",
            "1    18261\n",
            "0    16038\n",
            "Name: count, dtype: int64\n",
            "\n",
            "Imbalance Ratio: 0.88\n",
            "\n",
            "No significant class imbalance detected. Proceeding without SMOTE.\n"
          ]
        }
      ]
    },
    {
      "cell_type": "code",
      "source": [
        "# Train a RandomForest model to get feature importances\n",
        "rf_feature_selector = RandomForestClassifier(n_estimators=100, random_state=42)\n",
        "rf_feature_selector.fit(X_resampled, y_resampled)\n",
        "\n",
        "# Get feature importances\n",
        "importances = rf_feature_selector.feature_importances_\n",
        "\n",
        "# Create a list of tuples (importance, feature name)\n",
        "feature_importances = sorted(zip(importances, X_resampled.columns), reverse=True)\n",
        "\n",
        "# Display the sorted features\n",
        "print(\"\\nTop 20 Important Features:\")\n",
        "for importance, feature in feature_importances[:20]:\n",
        "    print(f\"Feature: {feature}, Importance: {importance:.4f}\")\n"
      ],
      "metadata": {
        "colab": {
          "base_uri": "https://localhost:8080/"
        },
        "id": "obAn3-shQei0",
        "outputId": "0c5ce789-0851-42d0-a5a3-dcf5b262d7ce"
      },
      "execution_count": 8,
      "outputs": [
        {
          "output_type": "stream",
          "name": "stdout",
          "text": [
            "\n",
            "Top 20 Important Features:\n",
            "Feature: ASK_AMT, Importance: 0.4007\n",
            "Feature: AFFILIATION_Independent, Importance: 0.2502\n",
            "Feature: ORGANIZATION_Trust, Importance: 0.0468\n",
            "Feature: APPLICATION_TYPE_T19, Importance: 0.0257\n",
            "Feature: CLASSIFICATION_C2100, Importance: 0.0250\n",
            "Feature: APPLICATION_TYPE_T5, Importance: 0.0220\n",
            "Feature: APPLICATION_TYPE_T3, Importance: 0.0207\n",
            "Feature: APPLICATION_TYPE_T4, Importance: 0.0197\n",
            "Feature: CLASSIFICATION_C2000, Importance: 0.0153\n",
            "Feature: CLASSIFICATION_C7000, Importance: 0.0150\n",
            "Feature: CLASSIFICATION_C1000, Importance: 0.0128\n",
            "Feature: USE_CASE_Preservation, Importance: 0.0126\n",
            "Feature: USE_CASE_ProductDev, Importance: 0.0108\n",
            "Feature: APPLICATION_TYPE_T6, Importance: 0.0106\n",
            "Feature: CLASSIFICATION_C1200, Importance: 0.0097\n",
            "Feature: INCOME_AMT_25000-99999, Importance: 0.0079\n",
            "Feature: CLASSIFICATION_C3000, Importance: 0.0076\n",
            "Feature: INCOME_AMT_100000-499999, Importance: 0.0071\n",
            "Feature: INCOME_AMT_1-9999, Importance: 0.0070\n",
            "Feature: APPLICATION_TYPE_T8, Importance: 0.0065\n"
          ]
        }
      ]
    },
    {
      "cell_type": "code",
      "source": [
        "# Select the top N most important features\n",
        "top_n = 20\n",
        "top_features = [feature for importance, feature in feature_importances[:top_n]]\n",
        "print(f\"\\nSelected Top {top_n} Features:\")\n",
        "print(top_features)\n",
        "\n",
        "# Create a new dataset with only the top features\n",
        "X_selected = X_resampled[top_features]\n"
      ],
      "metadata": {
        "colab": {
          "base_uri": "https://localhost:8080/"
        },
        "id": "k9ovYDHHQeli",
        "outputId": "33a7ffad-4e4a-47f7-bf09-fb69a188aa77"
      },
      "execution_count": 9,
      "outputs": [
        {
          "output_type": "stream",
          "name": "stdout",
          "text": [
            "\n",
            "Selected Top 20 Features:\n",
            "['ASK_AMT', 'AFFILIATION_Independent', 'ORGANIZATION_Trust', 'APPLICATION_TYPE_T19', 'CLASSIFICATION_C2100', 'APPLICATION_TYPE_T5', 'APPLICATION_TYPE_T3', 'APPLICATION_TYPE_T4', 'CLASSIFICATION_C2000', 'CLASSIFICATION_C7000', 'CLASSIFICATION_C1000', 'USE_CASE_Preservation', 'USE_CASE_ProductDev', 'APPLICATION_TYPE_T6', 'CLASSIFICATION_C1200', 'INCOME_AMT_25000-99999', 'CLASSIFICATION_C3000', 'INCOME_AMT_100000-499999', 'INCOME_AMT_1-9999', 'APPLICATION_TYPE_T8']\n"
          ]
        }
      ]
    },
    {
      "cell_type": "code",
      "source": [
        "# Split the data into training and testing sets\n",
        "X_train, X_test, y_train, y_test = train_test_split(\n",
        "    X_selected, y_resampled, test_size=0.2, random_state=42, stratify=y_resampled\n",
        ")\n",
        "\n",
        "print(\"\\nTraining set shape:\", X_train.shape)\n",
        "print(\"Testing set shape:\", X_test.shape)\n"
      ],
      "metadata": {
        "colab": {
          "base_uri": "https://localhost:8080/"
        },
        "id": "rpduhr7-Qen-",
        "outputId": "abed53f1-967b-417a-eecd-2d345570b992"
      },
      "execution_count": 10,
      "outputs": [
        {
          "output_type": "stream",
          "name": "stdout",
          "text": [
            "\n",
            "Training set shape: (27439, 20)\n",
            "Testing set shape: (6860, 20)\n"
          ]
        }
      ]
    },
    {
      "cell_type": "code",
      "source": [
        "# Initialize Logistic Regression\n",
        "lr_model = LogisticRegression(random_state=42, max_iter=1000)\n",
        "\n",
        "# Define parameter grid for Grid Search\n",
        "param_grid_lr = {\n",
        "    'C': [0.01, 0.1, 1, 10, 100],\n",
        "    'solver': ['liblinear', 'lbfgs']\n",
        "}\n",
        "\n",
        "# Initialize Grid Search\n",
        "grid_lr = GridSearchCV(estimator=lr_model, param_grid=param_grid_lr,\n",
        "                       cv=5, scoring='accuracy', n_jobs=-1)\n",
        "\n",
        "# Train the model with Grid Search\n",
        "grid_lr.fit(X_train, y_train)\n",
        "\n",
        "# Best parameters and best score\n",
        "print(\"\\nLogistic Regression Best Parameters:\", grid_lr.best_params_)\n",
        "print(\"Logistic Regression Best CV Accuracy:\", grid_lr.best_score_)\n",
        "\n",
        "# Predict on the test set\n",
        "y_pred_lr = grid_lr.predict(X_test)\n",
        "\n",
        "# Calculate accuracy\n",
        "accuracy_lr = accuracy_score(y_test, y_pred_lr)\n",
        "print(f\"Logistic Regression Test Accuracy: {accuracy_lr:.4f}\")\n"
      ],
      "metadata": {
        "colab": {
          "base_uri": "https://localhost:8080/"
        },
        "id": "ozLlIwMjQepW",
        "outputId": "4405ad42-08fa-489c-b684-e8b4e970a37c"
      },
      "execution_count": 11,
      "outputs": [
        {
          "output_type": "stream",
          "name": "stdout",
          "text": [
            "\n",
            "Logistic Regression Best Parameters: {'C': 0.01, 'solver': 'liblinear'}\n",
            "Logistic Regression Best CV Accuracy: 0.7181017775383214\n",
            "Logistic Regression Test Accuracy: 0.7082\n"
          ]
        }
      ]
    },
    {
      "cell_type": "code",
      "source": [
        "# Initialize Random Forest Classifier\n",
        "rf_model = RandomForestClassifier(random_state=42)\n",
        "\n",
        "# Define parameter grid for Grid Search\n",
        "param_grid_rf = {\n",
        "    'n_estimators': [100, 200, 500],\n",
        "    'max_depth': [None, 10, 20, 30],\n",
        "    'min_samples_split': [2, 5, 10],\n",
        "    'min_samples_leaf': [1, 2, 4],\n",
        "    'bootstrap': [True, False]\n",
        "}\n",
        "\n",
        "# Initialize Grid Search\n",
        "grid_rf = GridSearchCV(estimator=rf_model, param_grid=param_grid_rf,\n",
        "                       cv=3, scoring='accuracy', n_jobs=-1, verbose=2)\n",
        "\n",
        "# Train the model with Grid Search\n",
        "grid_rf.fit(X_train, y_train)\n",
        "\n",
        "# Best parameters and best score\n",
        "print(\"\\nRandom Forest Best Parameters:\", grid_rf.best_params_)\n",
        "print(\"Random Forest Best CV Accuracy:\", grid_rf.best_score_)\n",
        "\n",
        "# Predict on the test set\n",
        "y_pred_rf = grid_rf.predict(X_test)\n",
        "\n",
        "# Calculate accuracy\n",
        "accuracy_rf = accuracy_score(y_test, y_pred_rf)\n",
        "print(f\"Random Forest Test Accuracy: {accuracy_rf:.4f}\")\n"
      ],
      "metadata": {
        "colab": {
          "base_uri": "https://localhost:8080/"
        },
        "id": "-nLc0b-CRH7r",
        "outputId": "ecd1f7c2-d35f-4b1a-df56-4abb39096fa5"
      },
      "execution_count": 12,
      "outputs": [
        {
          "output_type": "stream",
          "name": "stdout",
          "text": [
            "Fitting 3 folds for each of 216 candidates, totalling 648 fits\n",
            "\n",
            "Random Forest Best Parameters: {'bootstrap': False, 'max_depth': 10, 'min_samples_leaf': 4, 'min_samples_split': 10, 'n_estimators': 100}\n",
            "Random Forest Best CV Accuracy: 0.7291806535960462\n",
            "Random Forest Test Accuracy: 0.7203\n"
          ]
        }
      ]
    },
    {
      "cell_type": "code",
      "source": [
        "# Initialize XGBoost Classifier\n",
        "xgb_model = xgb.XGBClassifier(use_label_encoder=False, eval_metric='logloss', random_state=42)\n",
        "\n",
        "# Define parameter grid for Grid Search\n",
        "param_grid_xgb = {\n",
        "    'n_estimators': [100, 200, 500],\n",
        "    'max_depth': [3, 5, 7],\n",
        "    'learning_rate': [0.01, 0.1, 0.2],\n",
        "    'subsample': [0.6, 0.8, 1.0],\n",
        "    'colsample_bytree': [0.6, 0.8, 1.0]\n",
        "}\n",
        "\n",
        "# Initialize Grid Search\n",
        "grid_xgb = GridSearchCV(estimator=xgb_model, param_grid=param_grid_xgb,\n",
        "                        cv=3, scoring='accuracy', n_jobs=-1, verbose=2)\n",
        "\n",
        "# Train the model with Grid Search\n",
        "grid_xgb.fit(X_train, y_train)\n",
        "\n",
        "# Best parameters and best score\n",
        "print(\"\\nXGBoost Best Parameters:\", grid_xgb.best_params_)\n",
        "print(\"XGBoost Best CV Accuracy:\", grid_xgb.best_score_)\n",
        "\n",
        "# Predict on the test set\n",
        "y_pred_xgb = grid_xgb.predict(X_test)\n",
        "\n",
        "# Calculate accuracy\n",
        "accuracy_xgb = accuracy_score(y_test, y_pred_xgb)\n",
        "print(f\"XGBoost Test Accuracy: {accuracy_xgb:.4f}\")\n"
      ],
      "metadata": {
        "id": "hMPLfYopRH_s",
        "colab": {
          "base_uri": "https://localhost:8080/"
        },
        "outputId": "d2d5f230-0358-41ae-d3a8-c6b23a5a35f7"
      },
      "execution_count": 13,
      "outputs": [
        {
          "output_type": "stream",
          "name": "stdout",
          "text": [
            "Fitting 3 folds for each of 243 candidates, totalling 729 fits\n",
            "\n",
            "XGBoost Best Parameters: {'colsample_bytree': 0.6, 'learning_rate': 0.01, 'max_depth': 5, 'n_estimators': 500, 'subsample': 0.6}\n",
            "XGBoost Best CV Accuracy: 0.7300916911429712\n",
            "XGBoost Test Accuracy: 0.7204\n"
          ]
        }
      ]
    },
    {
      "cell_type": "code",
      "source": [
        "# Define the Neural Network model\n",
        "nn_model = Sequential()\n",
        "\n",
        "# Input layer and first hidden layer\n",
        "nn_model.add(Dense(units=300, input_dim=X_train.shape[1]))\n",
        "nn_model.add(LeakyReLU(alpha=0.1))\n",
        "nn_model.add(BatchNormalization())\n",
        "nn_model.add(Dropout(0.3))\n",
        "\n",
        "# Second hidden layer\n",
        "nn_model.add(Dense(units=150))\n",
        "nn_model.add(LeakyReLU(alpha=0.1))\n",
        "nn_model.add(BatchNormalization())\n",
        "nn_model.add(Dropout(0.3))\n",
        "\n",
        "# Third hidden layer\n",
        "nn_model.add(Dense(units=100))\n",
        "nn_model.add(LeakyReLU(alpha=0.1))\n",
        "nn_model.add(BatchNormalization())\n",
        "nn_model.add(Dropout(0.3))\n",
        "\n",
        "# Fourth hidden layer\n",
        "nn_model.add(Dense(units=50))\n",
        "nn_model.add(LeakyReLU(alpha=0.1))\n",
        "nn_model.add(BatchNormalization())\n",
        "nn_model.add(Dropout(0.3))\n",
        "\n",
        "# Output layer for binary classification\n",
        "nn_model.add(Dense(units=1, activation='sigmoid'))\n",
        "\n",
        "# Compile the model\n",
        "nn_model.compile(optimizer='adam', loss='binary_crossentropy', metrics=['accuracy'])\n",
        "\n",
        "# Define callbacks\n",
        "early_stopping = EarlyStopping(monitor='val_loss', patience=20, restore_best_weights=True)\n",
        "reduce_lr = ReduceLROnPlateau(monitor='val_loss', factor=0.2, patience=10, min_lr=0.0001)\n",
        "\n",
        "# Train the model\n",
        "history = nn_model.fit(\n",
        "    X_train, y_train,\n",
        "    epochs=200,\n",
        "    batch_size=32,\n",
        "    validation_split=0.2,\n",
        "    callbacks=[early_stopping, reduce_lr],\n",
        "    verbose=1\n",
        ")\n",
        "\n",
        "# Predict on the test set\n",
        "y_pred_nn_prob = nn_model.predict(X_test)\n",
        "y_pred_nn = (y_pred_nn_prob > 0.5).astype(int).reshape(-1)\n",
        "\n",
        "# Calculate accuracy\n",
        "accuracy_nn = accuracy_score(y_test, y_pred_nn)\n",
        "print(f\"Neural Network Test Accuracy: {accuracy_nn:.4f}\")\n"
      ],
      "metadata": {
        "id": "ngHqKqWCRIEu",
        "colab": {
          "base_uri": "https://localhost:8080/"
        },
        "outputId": "8bf4746d-a808-475f-cb79-54a09f694e15"
      },
      "execution_count": 16,
      "outputs": [
        {
          "output_type": "stream",
          "name": "stdout",
          "text": [
            "Epoch 1/200\n",
            "\u001b[1m686/686\u001b[0m \u001b[32m━━━━━━━━━━━━━━━━━━━━\u001b[0m\u001b[37m\u001b[0m \u001b[1m16s\u001b[0m 8ms/step - accuracy: 0.6471 - loss: 0.6859 - val_accuracy: 0.7185 - val_loss: 0.5762 - learning_rate: 0.0010\n",
            "Epoch 2/200\n",
            "\u001b[1m686/686\u001b[0m \u001b[32m━━━━━━━━━━━━━━━━━━━━\u001b[0m\u001b[37m\u001b[0m \u001b[1m4s\u001b[0m 5ms/step - accuracy: 0.7130 - loss: 0.5895 - val_accuracy: 0.7203 - val_loss: 0.5716 - learning_rate: 0.0010\n",
            "Epoch 3/200\n",
            "\u001b[1m686/686\u001b[0m \u001b[32m━━━━━━━━━━━━━━━━━━━━\u001b[0m\u001b[37m\u001b[0m \u001b[1m4s\u001b[0m 6ms/step - accuracy: 0.7208 - loss: 0.5790 - val_accuracy: 0.7216 - val_loss: 0.5692 - learning_rate: 0.0010\n",
            "Epoch 4/200\n",
            "\u001b[1m686/686\u001b[0m \u001b[32m━━━━━━━━━━━━━━━━━━━━\u001b[0m\u001b[37m\u001b[0m \u001b[1m6s\u001b[0m 7ms/step - accuracy: 0.7191 - loss: 0.5721 - val_accuracy: 0.7177 - val_loss: 0.5690 - learning_rate: 0.0010\n",
            "Epoch 5/200\n",
            "\u001b[1m686/686\u001b[0m \u001b[32m━━━━━━━━━━━━━━━━━━━━\u001b[0m\u001b[37m\u001b[0m \u001b[1m4s\u001b[0m 6ms/step - accuracy: 0.7312 - loss: 0.5643 - val_accuracy: 0.7203 - val_loss: 0.5689 - learning_rate: 0.0010\n",
            "Epoch 6/200\n",
            "\u001b[1m686/686\u001b[0m \u001b[32m━━━━━━━━━━━━━━━━━━━━\u001b[0m\u001b[37m\u001b[0m \u001b[1m4s\u001b[0m 6ms/step - accuracy: 0.7217 - loss: 0.5719 - val_accuracy: 0.7216 - val_loss: 0.5665 - learning_rate: 0.0010\n",
            "Epoch 7/200\n",
            "\u001b[1m686/686\u001b[0m \u001b[32m━━━━━━━━━━━━━━━━━━━━\u001b[0m\u001b[37m\u001b[0m \u001b[1m7s\u001b[0m 8ms/step - accuracy: 0.7275 - loss: 0.5656 - val_accuracy: 0.7228 - val_loss: 0.5677 - learning_rate: 0.0010\n",
            "Epoch 8/200\n",
            "\u001b[1m686/686\u001b[0m \u001b[32m━━━━━━━━━━━━━━━━━━━━\u001b[0m\u001b[37m\u001b[0m \u001b[1m4s\u001b[0m 5ms/step - accuracy: 0.7230 - loss: 0.5672 - val_accuracy: 0.7210 - val_loss: 0.5694 - learning_rate: 0.0010\n",
            "Epoch 9/200\n",
            "\u001b[1m686/686\u001b[0m \u001b[32m━━━━━━━━━━━━━━━━━━━━\u001b[0m\u001b[37m\u001b[0m \u001b[1m4s\u001b[0m 5ms/step - accuracy: 0.7262 - loss: 0.5670 - val_accuracy: 0.7187 - val_loss: 0.5703 - learning_rate: 0.0010\n",
            "Epoch 10/200\n",
            "\u001b[1m686/686\u001b[0m \u001b[32m━━━━━━━━━━━━━━━━━━━━\u001b[0m\u001b[37m\u001b[0m \u001b[1m7s\u001b[0m 8ms/step - accuracy: 0.7171 - loss: 0.5743 - val_accuracy: 0.7210 - val_loss: 0.5667 - learning_rate: 0.0010\n",
            "Epoch 11/200\n",
            "\u001b[1m686/686\u001b[0m \u001b[32m━━━━━━━━━━━━━━━━━━━━\u001b[0m\u001b[37m\u001b[0m \u001b[1m4s\u001b[0m 5ms/step - accuracy: 0.7238 - loss: 0.5675 - val_accuracy: 0.7192 - val_loss: 0.5661 - learning_rate: 0.0010\n",
            "Epoch 12/200\n",
            "\u001b[1m686/686\u001b[0m \u001b[32m━━━━━━━━━━━━━━━━━━━━\u001b[0m\u001b[37m\u001b[0m \u001b[1m4s\u001b[0m 5ms/step - accuracy: 0.7254 - loss: 0.5653 - val_accuracy: 0.7210 - val_loss: 0.5717 - learning_rate: 0.0010\n",
            "Epoch 13/200\n",
            "\u001b[1m686/686\u001b[0m \u001b[32m━━━━━━━━━━━━━━━━━━━━\u001b[0m\u001b[37m\u001b[0m \u001b[1m5s\u001b[0m 7ms/step - accuracy: 0.7275 - loss: 0.5613 - val_accuracy: 0.7230 - val_loss: 0.5706 - learning_rate: 0.0010\n",
            "Epoch 14/200\n",
            "\u001b[1m686/686\u001b[0m \u001b[32m━━━━━━━━━━━━━━━━━━━━\u001b[0m\u001b[37m\u001b[0m \u001b[1m4s\u001b[0m 6ms/step - accuracy: 0.7231 - loss: 0.5667 - val_accuracy: 0.7218 - val_loss: 0.5666 - learning_rate: 0.0010\n",
            "Epoch 15/200\n",
            "\u001b[1m686/686\u001b[0m \u001b[32m━━━━━━━━━━━━━━━━━━━━\u001b[0m\u001b[37m\u001b[0m \u001b[1m5s\u001b[0m 5ms/step - accuracy: 0.7227 - loss: 0.5669 - val_accuracy: 0.7227 - val_loss: 0.5672 - learning_rate: 0.0010\n",
            "Epoch 16/200\n",
            "\u001b[1m686/686\u001b[0m \u001b[32m━━━━━━━━━━━━━━━━━━━━\u001b[0m\u001b[37m\u001b[0m \u001b[1m5s\u001b[0m 7ms/step - accuracy: 0.7239 - loss: 0.5670 - val_accuracy: 0.7239 - val_loss: 0.5646 - learning_rate: 0.0010\n",
            "Epoch 17/200\n",
            "\u001b[1m686/686\u001b[0m \u001b[32m━━━━━━━━━━━━━━━━━━━━\u001b[0m\u001b[37m\u001b[0m \u001b[1m9s\u001b[0m 5ms/step - accuracy: 0.7302 - loss: 0.5596 - val_accuracy: 0.7221 - val_loss: 0.5671 - learning_rate: 0.0010\n",
            "Epoch 18/200\n",
            "\u001b[1m686/686\u001b[0m \u001b[32m━━━━━━━━━━━━━━━━━━━━\u001b[0m\u001b[37m\u001b[0m \u001b[1m5s\u001b[0m 8ms/step - accuracy: 0.7264 - loss: 0.5659 - val_accuracy: 0.7212 - val_loss: 0.5652 - learning_rate: 0.0010\n",
            "Epoch 19/200\n",
            "\u001b[1m686/686\u001b[0m \u001b[32m━━━━━━━━━━━━━━━━━━━━\u001b[0m\u001b[37m\u001b[0m \u001b[1m9s\u001b[0m 6ms/step - accuracy: 0.7261 - loss: 0.5612 - val_accuracy: 0.7234 - val_loss: 0.5651 - learning_rate: 0.0010\n",
            "Epoch 20/200\n",
            "\u001b[1m686/686\u001b[0m \u001b[32m━━━━━━━━━━━━━━━━━━━━\u001b[0m\u001b[37m\u001b[0m \u001b[1m6s\u001b[0m 8ms/step - accuracy: 0.7222 - loss: 0.5632 - val_accuracy: 0.7228 - val_loss: 0.5647 - learning_rate: 0.0010\n",
            "Epoch 21/200\n",
            "\u001b[1m686/686\u001b[0m \u001b[32m━━━━━━━━━━━━━━━━━━━━\u001b[0m\u001b[37m\u001b[0m \u001b[1m5s\u001b[0m 7ms/step - accuracy: 0.7247 - loss: 0.5666 - val_accuracy: 0.7227 - val_loss: 0.5642 - learning_rate: 0.0010\n",
            "Epoch 22/200\n",
            "\u001b[1m686/686\u001b[0m \u001b[32m━━━━━━━━━━━━━━━━━━━━\u001b[0m\u001b[37m\u001b[0m \u001b[1m4s\u001b[0m 6ms/step - accuracy: 0.7311 - loss: 0.5568 - val_accuracy: 0.7208 - val_loss: 0.5654 - learning_rate: 0.0010\n",
            "Epoch 23/200\n",
            "\u001b[1m686/686\u001b[0m \u001b[32m━━━━━━━━━━━━━━━━━━━━\u001b[0m\u001b[37m\u001b[0m \u001b[1m6s\u001b[0m 9ms/step - accuracy: 0.7273 - loss: 0.5612 - val_accuracy: 0.7230 - val_loss: 0.5657 - learning_rate: 0.0010\n",
            "Epoch 24/200\n",
            "\u001b[1m686/686\u001b[0m \u001b[32m━━━━━━━━━━━━━━━━━━━━\u001b[0m\u001b[37m\u001b[0m \u001b[1m5s\u001b[0m 7ms/step - accuracy: 0.7324 - loss: 0.5625 - val_accuracy: 0.7241 - val_loss: 0.5632 - learning_rate: 0.0010\n",
            "Epoch 25/200\n",
            "\u001b[1m686/686\u001b[0m \u001b[32m━━━━━━━━━━━━━━━━━━━━\u001b[0m\u001b[37m\u001b[0m \u001b[1m4s\u001b[0m 6ms/step - accuracy: 0.7207 - loss: 0.5611 - val_accuracy: 0.7232 - val_loss: 0.5669 - learning_rate: 0.0010\n",
            "Epoch 26/200\n",
            "\u001b[1m686/686\u001b[0m \u001b[32m━━━━━━━━━━━━━━━━━━━━\u001b[0m\u001b[37m\u001b[0m \u001b[1m6s\u001b[0m 7ms/step - accuracy: 0.7238 - loss: 0.5614 - val_accuracy: 0.7207 - val_loss: 0.5646 - learning_rate: 0.0010\n",
            "Epoch 27/200\n",
            "\u001b[1m686/686\u001b[0m \u001b[32m━━━━━━━━━━━━━━━━━━━━\u001b[0m\u001b[37m\u001b[0m \u001b[1m5s\u001b[0m 7ms/step - accuracy: 0.7316 - loss: 0.5571 - val_accuracy: 0.7236 - val_loss: 0.5656 - learning_rate: 0.0010\n",
            "Epoch 28/200\n",
            "\u001b[1m686/686\u001b[0m \u001b[32m━━━━━━━━━━━━━━━━━━━━\u001b[0m\u001b[37m\u001b[0m \u001b[1m4s\u001b[0m 6ms/step - accuracy: 0.7243 - loss: 0.5620 - val_accuracy: 0.7228 - val_loss: 0.5635 - learning_rate: 0.0010\n",
            "Epoch 29/200\n",
            "\u001b[1m686/686\u001b[0m \u001b[32m━━━━━━━━━━━━━━━━━━━━\u001b[0m\u001b[37m\u001b[0m \u001b[1m5s\u001b[0m 8ms/step - accuracy: 0.7285 - loss: 0.5623 - val_accuracy: 0.7228 - val_loss: 0.5638 - learning_rate: 0.0010\n",
            "Epoch 30/200\n",
            "\u001b[1m686/686\u001b[0m \u001b[32m━━━━━━━━━━━━━━━━━━━━\u001b[0m\u001b[37m\u001b[0m \u001b[1m4s\u001b[0m 6ms/step - accuracy: 0.7291 - loss: 0.5610 - val_accuracy: 0.7227 - val_loss: 0.5650 - learning_rate: 0.0010\n",
            "Epoch 31/200\n",
            "\u001b[1m686/686\u001b[0m \u001b[32m━━━━━━━━━━━━━━━━━━━━\u001b[0m\u001b[37m\u001b[0m \u001b[1m5s\u001b[0m 6ms/step - accuracy: 0.7237 - loss: 0.5637 - val_accuracy: 0.7227 - val_loss: 0.5630 - learning_rate: 0.0010\n",
            "Epoch 32/200\n",
            "\u001b[1m686/686\u001b[0m \u001b[32m━━━━━━━━━━━━━━━━━━━━\u001b[0m\u001b[37m\u001b[0m \u001b[1m6s\u001b[0m 8ms/step - accuracy: 0.7291 - loss: 0.5568 - val_accuracy: 0.7241 - val_loss: 0.5627 - learning_rate: 0.0010\n",
            "Epoch 33/200\n",
            "\u001b[1m686/686\u001b[0m \u001b[32m━━━━━━━━━━━━━━━━━━━━\u001b[0m\u001b[37m\u001b[0m \u001b[1m4s\u001b[0m 5ms/step - accuracy: 0.7341 - loss: 0.5557 - val_accuracy: 0.7230 - val_loss: 0.5638 - learning_rate: 0.0010\n",
            "Epoch 34/200\n",
            "\u001b[1m686/686\u001b[0m \u001b[32m━━━━━━━━━━━━━━━━━━━━\u001b[0m\u001b[37m\u001b[0m \u001b[1m4s\u001b[0m 6ms/step - accuracy: 0.7306 - loss: 0.5575 - val_accuracy: 0.7241 - val_loss: 0.5625 - learning_rate: 0.0010\n",
            "Epoch 35/200\n",
            "\u001b[1m686/686\u001b[0m \u001b[32m━━━━━━━━━━━━━━━━━━━━\u001b[0m\u001b[37m\u001b[0m \u001b[1m5s\u001b[0m 8ms/step - accuracy: 0.7322 - loss: 0.5592 - val_accuracy: 0.7227 - val_loss: 0.5620 - learning_rate: 0.0010\n",
            "Epoch 36/200\n",
            "\u001b[1m686/686\u001b[0m \u001b[32m━━━━━━━━━━━━━━━━━━━━\u001b[0m\u001b[37m\u001b[0m \u001b[1m9s\u001b[0m 6ms/step - accuracy: 0.7308 - loss: 0.5584 - val_accuracy: 0.7228 - val_loss: 0.5623 - learning_rate: 0.0010\n",
            "Epoch 37/200\n",
            "\u001b[1m686/686\u001b[0m \u001b[32m━━━━━━━━━━━━━━━━━━━━\u001b[0m\u001b[37m\u001b[0m \u001b[1m5s\u001b[0m 8ms/step - accuracy: 0.7316 - loss: 0.5625 - val_accuracy: 0.7227 - val_loss: 0.5633 - learning_rate: 0.0010\n",
            "Epoch 38/200\n",
            "\u001b[1m686/686\u001b[0m \u001b[32m━━━━━━━━━━━━━━━━━━━━\u001b[0m\u001b[37m\u001b[0m \u001b[1m8s\u001b[0m 5ms/step - accuracy: 0.7286 - loss: 0.5600 - val_accuracy: 0.7230 - val_loss: 0.5647 - learning_rate: 0.0010\n",
            "Epoch 39/200\n",
            "\u001b[1m686/686\u001b[0m \u001b[32m━━━━━━━━━━━━━━━━━━━━\u001b[0m\u001b[37m\u001b[0m \u001b[1m5s\u001b[0m 8ms/step - accuracy: 0.7276 - loss: 0.5583 - val_accuracy: 0.7223 - val_loss: 0.5662 - learning_rate: 0.0010\n",
            "Epoch 40/200\n",
            "\u001b[1m686/686\u001b[0m \u001b[32m━━━━━━━━━━━━━━━━━━━━\u001b[0m\u001b[37m\u001b[0m \u001b[1m9s\u001b[0m 5ms/step - accuracy: 0.7290 - loss: 0.5569 - val_accuracy: 0.7241 - val_loss: 0.5621 - learning_rate: 0.0010\n",
            "Epoch 41/200\n",
            "\u001b[1m686/686\u001b[0m \u001b[32m━━━━━━━━━━━━━━━━━━━━\u001b[0m\u001b[37m\u001b[0m \u001b[1m7s\u001b[0m 8ms/step - accuracy: 0.7363 - loss: 0.5555 - val_accuracy: 0.7232 - val_loss: 0.5623 - learning_rate: 0.0010\n",
            "Epoch 42/200\n",
            "\u001b[1m686/686\u001b[0m \u001b[32m━━━━━━━━━━━━━━━━━━━━\u001b[0m\u001b[37m\u001b[0m \u001b[1m9s\u001b[0m 7ms/step - accuracy: 0.7271 - loss: 0.5597 - val_accuracy: 0.7236 - val_loss: 0.5617 - learning_rate: 0.0010\n",
            "Epoch 43/200\n",
            "\u001b[1m686/686\u001b[0m \u001b[32m━━━━━━━━━━━━━━━━━━━━\u001b[0m\u001b[37m\u001b[0m \u001b[1m5s\u001b[0m 7ms/step - accuracy: 0.7271 - loss: 0.5577 - val_accuracy: 0.7234 - val_loss: 0.5624 - learning_rate: 0.0010\n",
            "Epoch 44/200\n",
            "\u001b[1m686/686\u001b[0m \u001b[32m━━━━━━━━━━━━━━━━━━━━\u001b[0m\u001b[37m\u001b[0m \u001b[1m4s\u001b[0m 6ms/step - accuracy: 0.7276 - loss: 0.5560 - val_accuracy: 0.7232 - val_loss: 0.5623 - learning_rate: 0.0010\n",
            "Epoch 45/200\n",
            "\u001b[1m686/686\u001b[0m \u001b[32m━━━━━━━━━━━━━━━━━━━━\u001b[0m\u001b[37m\u001b[0m \u001b[1m4s\u001b[0m 6ms/step - accuracy: 0.7276 - loss: 0.5571 - val_accuracy: 0.7232 - val_loss: 0.5622 - learning_rate: 0.0010\n",
            "Epoch 46/200\n",
            "\u001b[1m686/686\u001b[0m \u001b[32m━━━━━━━━━━━━━━━━━━━━\u001b[0m\u001b[37m\u001b[0m \u001b[1m6s\u001b[0m 7ms/step - accuracy: 0.7313 - loss: 0.5562 - val_accuracy: 0.7234 - val_loss: 0.5635 - learning_rate: 0.0010\n",
            "Epoch 47/200\n",
            "\u001b[1m686/686\u001b[0m \u001b[32m━━━━━━━━━━━━━━━━━━━━\u001b[0m\u001b[37m\u001b[0m \u001b[1m5s\u001b[0m 6ms/step - accuracy: 0.7252 - loss: 0.5617 - val_accuracy: 0.7227 - val_loss: 0.5628 - learning_rate: 0.0010\n",
            "Epoch 48/200\n",
            "\u001b[1m686/686\u001b[0m \u001b[32m━━━━━━━━━━━━━━━━━━━━\u001b[0m\u001b[37m\u001b[0m \u001b[1m6s\u001b[0m 7ms/step - accuracy: 0.7330 - loss: 0.5585 - val_accuracy: 0.7238 - val_loss: 0.5627 - learning_rate: 0.0010\n",
            "Epoch 49/200\n",
            "\u001b[1m686/686\u001b[0m \u001b[32m━━━━━━━━━━━━━━━━━━━━\u001b[0m\u001b[37m\u001b[0m \u001b[1m4s\u001b[0m 6ms/step - accuracy: 0.7316 - loss: 0.5592 - val_accuracy: 0.7236 - val_loss: 0.5623 - learning_rate: 0.0010\n",
            "Epoch 50/200\n",
            "\u001b[1m686/686\u001b[0m \u001b[32m━━━━━━━━━━━━━━━━━━━━\u001b[0m\u001b[37m\u001b[0m \u001b[1m4s\u001b[0m 6ms/step - accuracy: 0.7325 - loss: 0.5535 - val_accuracy: 0.7234 - val_loss: 0.5622 - learning_rate: 0.0010\n",
            "Epoch 51/200\n",
            "\u001b[1m686/686\u001b[0m \u001b[32m━━━━━━━━━━━━━━━━━━━━\u001b[0m\u001b[37m\u001b[0m \u001b[1m5s\u001b[0m 7ms/step - accuracy: 0.7356 - loss: 0.5554 - val_accuracy: 0.7234 - val_loss: 0.5633 - learning_rate: 0.0010\n",
            "Epoch 52/200\n",
            "\u001b[1m686/686\u001b[0m \u001b[32m━━━━━━━━━━━━━━━━━━━━\u001b[0m\u001b[37m\u001b[0m \u001b[1m4s\u001b[0m 6ms/step - accuracy: 0.7303 - loss: 0.5565 - val_accuracy: 0.7230 - val_loss: 0.5630 - learning_rate: 0.0010\n",
            "Epoch 53/200\n",
            "\u001b[1m686/686\u001b[0m \u001b[32m━━━━━━━━━━━━━━━━━━━━\u001b[0m\u001b[37m\u001b[0m \u001b[1m5s\u001b[0m 6ms/step - accuracy: 0.7282 - loss: 0.5593 - val_accuracy: 0.7232 - val_loss: 0.5615 - learning_rate: 2.0000e-04\n",
            "Epoch 54/200\n",
            "\u001b[1m686/686\u001b[0m \u001b[32m━━━━━━━━━━━━━━━━━━━━\u001b[0m\u001b[37m\u001b[0m \u001b[1m7s\u001b[0m 8ms/step - accuracy: 0.7351 - loss: 0.5549 - val_accuracy: 0.7234 - val_loss: 0.5616 - learning_rate: 2.0000e-04\n",
            "Epoch 55/200\n",
            "\u001b[1m686/686\u001b[0m \u001b[32m━━━━━━━━━━━━━━━━━━━━\u001b[0m\u001b[37m\u001b[0m \u001b[1m4s\u001b[0m 6ms/step - accuracy: 0.7313 - loss: 0.5526 - val_accuracy: 0.7238 - val_loss: 0.5603 - learning_rate: 2.0000e-04\n",
            "Epoch 56/200\n",
            "\u001b[1m686/686\u001b[0m \u001b[32m━━━━━━━━━━━━━━━━━━━━\u001b[0m\u001b[37m\u001b[0m \u001b[1m5s\u001b[0m 6ms/step - accuracy: 0.7286 - loss: 0.5529 - val_accuracy: 0.7238 - val_loss: 0.5611 - learning_rate: 2.0000e-04\n",
            "Epoch 57/200\n",
            "\u001b[1m686/686\u001b[0m \u001b[32m━━━━━━━━━━━━━━━━━━━━\u001b[0m\u001b[37m\u001b[0m \u001b[1m5s\u001b[0m 8ms/step - accuracy: 0.7363 - loss: 0.5487 - val_accuracy: 0.7241 - val_loss: 0.5609 - learning_rate: 2.0000e-04\n",
            "Epoch 58/200\n",
            "\u001b[1m686/686\u001b[0m \u001b[32m━━━━━━━━━━━━━━━━━━━━\u001b[0m\u001b[37m\u001b[0m \u001b[1m9s\u001b[0m 6ms/step - accuracy: 0.7292 - loss: 0.5567 - val_accuracy: 0.7239 - val_loss: 0.5605 - learning_rate: 2.0000e-04\n",
            "Epoch 59/200\n",
            "\u001b[1m686/686\u001b[0m \u001b[32m━━━━━━━━━━━━━━━━━━━━\u001b[0m\u001b[37m\u001b[0m \u001b[1m5s\u001b[0m 7ms/step - accuracy: 0.7313 - loss: 0.5570 - val_accuracy: 0.7238 - val_loss: 0.5609 - learning_rate: 2.0000e-04\n",
            "Epoch 60/200\n",
            "\u001b[1m686/686\u001b[0m \u001b[32m━━━━━━━━━━━━━━━━━━━━\u001b[0m\u001b[37m\u001b[0m \u001b[1m4s\u001b[0m 6ms/step - accuracy: 0.7335 - loss: 0.5512 - val_accuracy: 0.7239 - val_loss: 0.5620 - learning_rate: 2.0000e-04\n",
            "Epoch 61/200\n",
            "\u001b[1m686/686\u001b[0m \u001b[32m━━━━━━━━━━━━━━━━━━━━\u001b[0m\u001b[37m\u001b[0m \u001b[1m4s\u001b[0m 6ms/step - accuracy: 0.7314 - loss: 0.5586 - val_accuracy: 0.7236 - val_loss: 0.5611 - learning_rate: 2.0000e-04\n",
            "Epoch 62/200\n",
            "\u001b[1m686/686\u001b[0m \u001b[32m━━━━━━━━━━━━━━━━━━━━\u001b[0m\u001b[37m\u001b[0m \u001b[1m5s\u001b[0m 8ms/step - accuracy: 0.7372 - loss: 0.5487 - val_accuracy: 0.7236 - val_loss: 0.5606 - learning_rate: 2.0000e-04\n",
            "Epoch 63/200\n",
            "\u001b[1m686/686\u001b[0m \u001b[32m━━━━━━━━━━━━━━━━━━━━\u001b[0m\u001b[37m\u001b[0m \u001b[1m4s\u001b[0m 6ms/step - accuracy: 0.7331 - loss: 0.5540 - val_accuracy: 0.7234 - val_loss: 0.5609 - learning_rate: 2.0000e-04\n",
            "Epoch 64/200\n",
            "\u001b[1m686/686\u001b[0m \u001b[32m━━━━━━━━━━━━━━━━━━━━\u001b[0m\u001b[37m\u001b[0m \u001b[1m4s\u001b[0m 6ms/step - accuracy: 0.7265 - loss: 0.5576 - val_accuracy: 0.7234 - val_loss: 0.5613 - learning_rate: 2.0000e-04\n",
            "Epoch 65/200\n",
            "\u001b[1m686/686\u001b[0m \u001b[32m━━━━━━━━━━━━━━━━━━━━\u001b[0m\u001b[37m\u001b[0m \u001b[1m5s\u001b[0m 7ms/step - accuracy: 0.7379 - loss: 0.5475 - val_accuracy: 0.7238 - val_loss: 0.5612 - learning_rate: 2.0000e-04\n",
            "Epoch 66/200\n",
            "\u001b[1m686/686\u001b[0m \u001b[32m━━━━━━━━━━━━━━━━━━━━\u001b[0m\u001b[37m\u001b[0m \u001b[1m4s\u001b[0m 6ms/step - accuracy: 0.7255 - loss: 0.5542 - val_accuracy: 0.7241 - val_loss: 0.5612 - learning_rate: 1.0000e-04\n",
            "Epoch 67/200\n",
            "\u001b[1m686/686\u001b[0m \u001b[32m━━━━━━━━━━━━━━━━━━━━\u001b[0m\u001b[37m\u001b[0m \u001b[1m4s\u001b[0m 6ms/step - accuracy: 0.7399 - loss: 0.5491 - val_accuracy: 0.7234 - val_loss: 0.5610 - learning_rate: 1.0000e-04\n",
            "Epoch 68/200\n",
            "\u001b[1m686/686\u001b[0m \u001b[32m━━━━━━━━━━━━━━━━━━━━\u001b[0m\u001b[37m\u001b[0m \u001b[1m5s\u001b[0m 7ms/step - accuracy: 0.7301 - loss: 0.5575 - val_accuracy: 0.7241 - val_loss: 0.5606 - learning_rate: 1.0000e-04\n",
            "Epoch 69/200\n",
            "\u001b[1m686/686\u001b[0m \u001b[32m━━━━━━━━━━━━━━━━━━━━\u001b[0m\u001b[37m\u001b[0m \u001b[1m4s\u001b[0m 5ms/step - accuracy: 0.7384 - loss: 0.5485 - val_accuracy: 0.7239 - val_loss: 0.5619 - learning_rate: 1.0000e-04\n",
            "Epoch 70/200\n",
            "\u001b[1m686/686\u001b[0m \u001b[32m━━━━━━━━━━━━━━━━━━━━\u001b[0m\u001b[37m\u001b[0m \u001b[1m4s\u001b[0m 6ms/step - accuracy: 0.7253 - loss: 0.5575 - val_accuracy: 0.7249 - val_loss: 0.5603 - learning_rate: 1.0000e-04\n",
            "Epoch 71/200\n",
            "\u001b[1m686/686\u001b[0m \u001b[32m━━━━━━━━━━━━━━━━━━━━\u001b[0m\u001b[37m\u001b[0m \u001b[1m6s\u001b[0m 7ms/step - accuracy: 0.7344 - loss: 0.5518 - val_accuracy: 0.7243 - val_loss: 0.5604 - learning_rate: 1.0000e-04\n",
            "Epoch 72/200\n",
            "\u001b[1m686/686\u001b[0m \u001b[32m━━━━━━━━━━━━━━━━━━━━\u001b[0m\u001b[37m\u001b[0m \u001b[1m4s\u001b[0m 6ms/step - accuracy: 0.7335 - loss: 0.5492 - val_accuracy: 0.7243 - val_loss: 0.5606 - learning_rate: 1.0000e-04\n",
            "Epoch 73/200\n",
            "\u001b[1m686/686\u001b[0m \u001b[32m━━━━━━━━━━━━━━━━━━━━\u001b[0m\u001b[37m\u001b[0m \u001b[1m4s\u001b[0m 5ms/step - accuracy: 0.7263 - loss: 0.5595 - val_accuracy: 0.7245 - val_loss: 0.5601 - learning_rate: 1.0000e-04\n",
            "Epoch 74/200\n",
            "\u001b[1m686/686\u001b[0m \u001b[32m━━━━━━━━━━━━━━━━━━━━\u001b[0m\u001b[37m\u001b[0m \u001b[1m5s\u001b[0m 8ms/step - accuracy: 0.7309 - loss: 0.5547 - val_accuracy: 0.7241 - val_loss: 0.5610 - learning_rate: 1.0000e-04\n",
            "Epoch 75/200\n",
            "\u001b[1m686/686\u001b[0m \u001b[32m━━━━━━━━━━━━━━━━━━━━\u001b[0m\u001b[37m\u001b[0m \u001b[1m9s\u001b[0m 5ms/step - accuracy: 0.7314 - loss: 0.5533 - val_accuracy: 0.7241 - val_loss: 0.5610 - learning_rate: 1.0000e-04\n",
            "Epoch 76/200\n",
            "\u001b[1m686/686\u001b[0m \u001b[32m━━━━━━━━━━━━━━━━━━━━\u001b[0m\u001b[37m\u001b[0m \u001b[1m5s\u001b[0m 8ms/step - accuracy: 0.7317 - loss: 0.5582 - val_accuracy: 0.7243 - val_loss: 0.5603 - learning_rate: 1.0000e-04\n",
            "Epoch 77/200\n",
            "\u001b[1m686/686\u001b[0m \u001b[32m━━━━━━━━━━━━━━━━━━━━\u001b[0m\u001b[37m\u001b[0m \u001b[1m5s\u001b[0m 7ms/step - accuracy: 0.7294 - loss: 0.5577 - val_accuracy: 0.7249 - val_loss: 0.5609 - learning_rate: 1.0000e-04\n",
            "Epoch 78/200\n",
            "\u001b[1m686/686\u001b[0m \u001b[32m━━━━━━━━━━━━━━━━━━━━\u001b[0m\u001b[37m\u001b[0m \u001b[1m4s\u001b[0m 5ms/step - accuracy: 0.7342 - loss: 0.5508 - val_accuracy: 0.7243 - val_loss: 0.5619 - learning_rate: 1.0000e-04\n",
            "Epoch 79/200\n",
            "\u001b[1m686/686\u001b[0m \u001b[32m━━━━━━━━━━━━━━━━━━━━\u001b[0m\u001b[37m\u001b[0m \u001b[1m6s\u001b[0m 7ms/step - accuracy: 0.7251 - loss: 0.5577 - val_accuracy: 0.7239 - val_loss: 0.5599 - learning_rate: 1.0000e-04\n",
            "Epoch 80/200\n",
            "\u001b[1m686/686\u001b[0m \u001b[32m━━━━━━━━━━━━━━━━━━━━\u001b[0m\u001b[37m\u001b[0m \u001b[1m4s\u001b[0m 5ms/step - accuracy: 0.7289 - loss: 0.5511 - val_accuracy: 0.7247 - val_loss: 0.5602 - learning_rate: 1.0000e-04\n",
            "Epoch 81/200\n",
            "\u001b[1m686/686\u001b[0m \u001b[32m━━━━━━━━━━━━━━━━━━━━\u001b[0m\u001b[37m\u001b[0m \u001b[1m6s\u001b[0m 7ms/step - accuracy: 0.7297 - loss: 0.5539 - val_accuracy: 0.7247 - val_loss: 0.5598 - learning_rate: 1.0000e-04\n",
            "Epoch 82/200\n",
            "\u001b[1m686/686\u001b[0m \u001b[32m━━━━━━━━━━━━━━━━━━━━\u001b[0m\u001b[37m\u001b[0m \u001b[1m5s\u001b[0m 7ms/step - accuracy: 0.7355 - loss: 0.5512 - val_accuracy: 0.7234 - val_loss: 0.5602 - learning_rate: 1.0000e-04\n",
            "Epoch 83/200\n",
            "\u001b[1m686/686\u001b[0m \u001b[32m━━━━━━━━━━━━━━━━━━━━\u001b[0m\u001b[37m\u001b[0m \u001b[1m4s\u001b[0m 6ms/step - accuracy: 0.7329 - loss: 0.5524 - val_accuracy: 0.7238 - val_loss: 0.5618 - learning_rate: 1.0000e-04\n",
            "Epoch 84/200\n",
            "\u001b[1m686/686\u001b[0m \u001b[32m━━━━━━━━━━━━━━━━━━━━\u001b[0m\u001b[37m\u001b[0m \u001b[1m6s\u001b[0m 7ms/step - accuracy: 0.7310 - loss: 0.5572 - val_accuracy: 0.7247 - val_loss: 0.5605 - learning_rate: 1.0000e-04\n",
            "Epoch 85/200\n",
            "\u001b[1m686/686\u001b[0m \u001b[32m━━━━━━━━━━━━━━━━━━━━\u001b[0m\u001b[37m\u001b[0m \u001b[1m4s\u001b[0m 6ms/step - accuracy: 0.7262 - loss: 0.5606 - val_accuracy: 0.7247 - val_loss: 0.5602 - learning_rate: 1.0000e-04\n",
            "Epoch 86/200\n",
            "\u001b[1m686/686\u001b[0m \u001b[32m━━━━━━━━━━━━━━━━━━━━\u001b[0m\u001b[37m\u001b[0m \u001b[1m5s\u001b[0m 5ms/step - accuracy: 0.7364 - loss: 0.5498 - val_accuracy: 0.7238 - val_loss: 0.5611 - learning_rate: 1.0000e-04\n",
            "Epoch 87/200\n",
            "\u001b[1m686/686\u001b[0m \u001b[32m━━━━━━━━━━━━━━━━━━━━\u001b[0m\u001b[37m\u001b[0m \u001b[1m7s\u001b[0m 7ms/step - accuracy: 0.7360 - loss: 0.5511 - val_accuracy: 0.7243 - val_loss: 0.5613 - learning_rate: 1.0000e-04\n",
            "Epoch 88/200\n",
            "\u001b[1m686/686\u001b[0m \u001b[32m━━━━━━━━━━━━━━━━━━━━\u001b[0m\u001b[37m\u001b[0m \u001b[1m4s\u001b[0m 5ms/step - accuracy: 0.7272 - loss: 0.5539 - val_accuracy: 0.7232 - val_loss: 0.5610 - learning_rate: 1.0000e-04\n",
            "Epoch 89/200\n",
            "\u001b[1m686/686\u001b[0m \u001b[32m━━━━━━━━━━━━━━━━━━━━\u001b[0m\u001b[37m\u001b[0m \u001b[1m5s\u001b[0m 5ms/step - accuracy: 0.7328 - loss: 0.5534 - val_accuracy: 0.7239 - val_loss: 0.5608 - learning_rate: 1.0000e-04\n",
            "Epoch 90/200\n",
            "\u001b[1m686/686\u001b[0m \u001b[32m━━━━━━━━━━━━━━━━━━━━\u001b[0m\u001b[37m\u001b[0m \u001b[1m6s\u001b[0m 7ms/step - accuracy: 0.7328 - loss: 0.5517 - val_accuracy: 0.7238 - val_loss: 0.5603 - learning_rate: 1.0000e-04\n",
            "Epoch 91/200\n",
            "\u001b[1m686/686\u001b[0m \u001b[32m━━━━━━━━━━━━━━━━━━━━\u001b[0m\u001b[37m\u001b[0m \u001b[1m4s\u001b[0m 5ms/step - accuracy: 0.7329 - loss: 0.5552 - val_accuracy: 0.7241 - val_loss: 0.5604 - learning_rate: 1.0000e-04\n",
            "Epoch 92/200\n",
            "\u001b[1m686/686\u001b[0m \u001b[32m━━━━━━━━━━━━━━━━━━━━\u001b[0m\u001b[37m\u001b[0m \u001b[1m6s\u001b[0m 6ms/step - accuracy: 0.7289 - loss: 0.5571 - val_accuracy: 0.7236 - val_loss: 0.5611 - learning_rate: 1.0000e-04\n",
            "Epoch 93/200\n",
            "\u001b[1m686/686\u001b[0m \u001b[32m━━━━━━━━━━━━━━━━━━━━\u001b[0m\u001b[37m\u001b[0m \u001b[1m5s\u001b[0m 7ms/step - accuracy: 0.7291 - loss: 0.5592 - val_accuracy: 0.7236 - val_loss: 0.5606 - learning_rate: 1.0000e-04\n",
            "Epoch 94/200\n",
            "\u001b[1m686/686\u001b[0m \u001b[32m━━━━━━━━━━━━━━━━━━━━\u001b[0m\u001b[37m\u001b[0m \u001b[1m4s\u001b[0m 6ms/step - accuracy: 0.7298 - loss: 0.5531 - val_accuracy: 0.7236 - val_loss: 0.5611 - learning_rate: 1.0000e-04\n",
            "Epoch 95/200\n",
            "\u001b[1m686/686\u001b[0m \u001b[32m━━━━━━━━━━━━━━━━━━━━\u001b[0m\u001b[37m\u001b[0m \u001b[1m4s\u001b[0m 6ms/step - accuracy: 0.7307 - loss: 0.5531 - val_accuracy: 0.7239 - val_loss: 0.5603 - learning_rate: 1.0000e-04\n",
            "Epoch 96/200\n",
            "\u001b[1m686/686\u001b[0m \u001b[32m━━━━━━━━━━━━━━━━━━━━\u001b[0m\u001b[37m\u001b[0m \u001b[1m5s\u001b[0m 7ms/step - accuracy: 0.7341 - loss: 0.5504 - val_accuracy: 0.7236 - val_loss: 0.5613 - learning_rate: 1.0000e-04\n",
            "Epoch 97/200\n",
            "\u001b[1m686/686\u001b[0m \u001b[32m━━━━━━━━━━━━━━━━━━━━\u001b[0m\u001b[37m\u001b[0m \u001b[1m4s\u001b[0m 6ms/step - accuracy: 0.7324 - loss: 0.5525 - val_accuracy: 0.7249 - val_loss: 0.5607 - learning_rate: 1.0000e-04\n",
            "Epoch 98/200\n",
            "\u001b[1m686/686\u001b[0m \u001b[32m━━━━━━━━━━━━━━━━━━━━\u001b[0m\u001b[37m\u001b[0m \u001b[1m4s\u001b[0m 6ms/step - accuracy: 0.7311 - loss: 0.5544 - val_accuracy: 0.7236 - val_loss: 0.5604 - learning_rate: 1.0000e-04\n",
            "Epoch 99/200\n",
            "\u001b[1m686/686\u001b[0m \u001b[32m━━━━━━━━━━━━━━━━━━━━\u001b[0m\u001b[37m\u001b[0m \u001b[1m6s\u001b[0m 6ms/step - accuracy: 0.7358 - loss: 0.5485 - val_accuracy: 0.7245 - val_loss: 0.5605 - learning_rate: 1.0000e-04\n",
            "Epoch 100/200\n",
            "\u001b[1m686/686\u001b[0m \u001b[32m━━━━━━━━━━━━━━━━━━━━\u001b[0m\u001b[37m\u001b[0m \u001b[1m4s\u001b[0m 5ms/step - accuracy: 0.7327 - loss: 0.5510 - val_accuracy: 0.7236 - val_loss: 0.5615 - learning_rate: 1.0000e-04\n",
            "Epoch 101/200\n",
            "\u001b[1m686/686\u001b[0m \u001b[32m━━━━━━━━━━━━━━━━━━━━\u001b[0m\u001b[37m\u001b[0m \u001b[1m4s\u001b[0m 6ms/step - accuracy: 0.7343 - loss: 0.5523 - val_accuracy: 0.7239 - val_loss: 0.5613 - learning_rate: 1.0000e-04\n",
            "\u001b[1m215/215\u001b[0m \u001b[32m━━━━━━━━━━━━━━━━━━━━\u001b[0m\u001b[37m\u001b[0m \u001b[1m1s\u001b[0m 4ms/step\n",
            "Neural Network Test Accuracy: 0.7201\n"
          ]
        }
      ]
    },
    {
      "cell_type": "code",
      "source": [
        "# Create a dictionary to store accuracies\n",
        "model_accuracies = {\n",
        "    'Logistic Regression': accuracy_lr,\n",
        "    'Random Forest': accuracy_rf,\n",
        "    'XGBoost': accuracy_xgb,\n",
        "    'Neural Network': accuracy_nn\n",
        "}\n",
        "\n",
        "# Display the accuracies\n",
        "print(\"\\nModel Accuracies:\")\n",
        "for model, acc in model_accuracies.items():\n",
        "    print(f\"{model}: {acc:.4f}\")\n",
        "\n",
        "# Identify the best model\n",
        "best_model_name = max(model_accuracies, key=model_accuracies.get)\n",
        "best_accuracy = model_accuracies[best_model_name]\n",
        "print(f\"\\nBest Model: {best_model_name} with Accuracy: {best_accuracy:.4f}\")\n"
      ],
      "metadata": {
        "id": "X8Uj6NSBRIJT",
        "colab": {
          "base_uri": "https://localhost:8080/"
        },
        "outputId": "17b5c544-c5c4-4223-a7de-91d13e9d9b6b"
      },
      "execution_count": 17,
      "outputs": [
        {
          "output_type": "stream",
          "name": "stdout",
          "text": [
            "\n",
            "Model Accuracies:\n",
            "Logistic Regression: 0.7082\n",
            "Random Forest: 0.7203\n",
            "XGBoost: 0.7204\n",
            "Neural Network: 0.7201\n",
            "\n",
            "Best Model: XGBoost with Accuracy: 0.7204\n"
          ]
        }
      ]
    },
    {
      "cell_type": "code",
      "source": [
        "# Visualize the model accuracies\n",
        "plt.figure(figsize=(10,6))\n",
        "sns.barplot(x=list(model_accuracies.keys()), y=list(model_accuracies.values()), palette='viridis')\n",
        "plt.title('Model Accuracies Comparison')\n",
        "plt.ylabel('Accuracy')\n",
        "plt.xlabel('Model')\n",
        "plt.ylim(0,1)\n",
        "for index, value in enumerate(model_accuracies.values()):\n",
        "    plt.text(index, value + 0.01, f\"{value:.2f}\", ha='center')\n",
        "plt.show()\n"
      ],
      "metadata": {
        "id": "rR6Ji6pgVGCl",
        "colab": {
          "base_uri": "https://localhost:8080/",
          "height": 564
        },
        "outputId": "a2190750-247e-4ec5-8968-8107e24fdd9d"
      },
      "execution_count": 18,
      "outputs": [
        {
          "output_type": "display_data",
          "data": {
            "text/plain": [
              "<Figure size 1000x600 with 1 Axes>"
            ],
            "image/png": "[encoded data removed]"
          },
          "metadata": {}
        }
      ]
    },
    {
      "cell_type": "code",
      "source": [
        "# Detailed evaluation of the best model\n",
        "if best_model_name == 'Neural Network':\n",
        "    print(\"\\nConfusion Matrix:\")\n",
        "    cm = confusion_matrix(y_test, y_pred_nn)\n",
        "    sns.heatmap(cm, annot=True, fmt='d', cmap='Blues')\n",
        "    plt.title('Confusion Matrix - Neural Network')\n",
        "    plt.xlabel('Predicted')\n",
        "    plt.ylabel('Actual')\n",
        "    plt.show()\n",
        "\n",
        "    print(\"\\nClassification Report:\")\n",
        "    print(classification_report(y_test, y_pred_nn))\n",
        "elif best_model_name == 'Random Forest':\n",
        "    print(\"\\nConfusion Matrix:\")\n",
        "    cm = confusion_matrix(y_test, y_pred_rf)\n",
        "    sns.heatmap(cm, annot=True, fmt='d', cmap='Greens')\n",
        "    plt.title('Confusion Matrix - Random Forest')\n",
        "    plt.xlabel('Predicted')\n",
        "    plt.ylabel('Actual')\n",
        "    plt.show()\n",
        "\n",
        "    print(\"\\nClassification Report:\")\n",
        "    print(classification_report(y_test, y_pred_rf))\n",
        "elif best_model_name == 'XGBoost':\n",
        "    print(\"\\nConfusion Matrix:\")\n",
        "    cm = confusion_matrix(y_test, y_pred_xgb)\n",
        "    sns.heatmap(cm, annot=True, fmt='d', cmap='Oranges')\n",
        "    plt.title('Confusion Matrix - XGBoost')\n",
        "    plt.xlabel('Predicted')\n",
        "    plt.ylabel('Actual')\n",
        "    plt.show()\n",
        "\n",
        "    print(\"\\nClassification Report:\")\n",
        "    print(classification_report(y_test, y_pred_xgb))\n",
        "elif best_model_name == 'Logistic Regression':\n",
        "    print(\"\\nConfusion Matrix:\")\n",
        "    cm = confusion_matrix(y_test, y_pred_lr)\n",
        "    sns.heatmap(cm, annot=True, fmt='d', cmap='Purples')\n",
        "    plt.title('Confusion Matrix - Logistic Regression')\n",
        "    plt.xlabel('Predicted')\n",
        "    plt.ylabel('Actual')\n",
        "    plt.show()\n",
        "\n",
        "    print(\"\\nClassification Report:\")\n",
        "    print(classification_report(y_test, y_pred_lr))\n"
      ],
      "metadata": {
        "id": "_HQqQqO4VGTY",
        "colab": {
          "base_uri": "https://localhost:8080/",
          "height": 698
        },
        "outputId": "ae54eda0-e5ff-4ed5-b19e-04840671be9b"
      },
      "execution_count": 19,
      "outputs": [
        {
          "output_type": "stream",
          "name": "stdout",
          "text": [
            "\n",
            "Confusion Matrix:\n"
          ]
        },
        {
          "output_type": "display_data",
          "data": {
            "text/plain": [
              "<Figure size 640x480 with 2 Axes>"
            ],
            "image/png": "[encoded data removed]"
          },
          "metadata": {}
        },
        {
          "output_type": "stream",
          "name": "stdout",
          "text": [
            "\n",
            "Classification Report:\n",
            "              precision    recall  f1-score   support\n",
            "\n",
            "           0       0.73      0.64      0.68      3208\n",
            "           1       0.72      0.79      0.75      3652\n",
            "\n",
            "    accuracy                           0.72      6860\n",
            "   macro avg       0.72      0.72      0.72      6860\n",
            "weighted avg       0.72      0.72      0.72      6860\n",
            "\n"
          ]
        }
      ]
    }
  ]
}